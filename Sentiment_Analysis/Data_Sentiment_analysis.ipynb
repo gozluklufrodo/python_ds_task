{
 "cells": [
  {
   "cell_type": "code",
   "execution_count": 1,
   "id": "231004ea",
   "metadata": {},
   "outputs": [],
   "source": [
    "import pandas as pd\n",
    "import re, string\n",
    "from collections import Counter, OrderedDict\n",
    "from spacy.lang.en.stop_words import STOP_WORDS\n",
    "import matplotlib.pyplot as plt\n",
    "import seaborn as sns\n",
    "from wordcloud import WordCloud\n",
    "import numpy as np\n",
    "from PIL import Image\n",
    "from contractions import CONTRACTION_MAP\n",
    "import pdb"
   ]
  },
  {
   "cell_type": "code",
   "execution_count": 2,
   "id": "3f92116a",
   "metadata": {},
   "outputs": [
    {
     "name": "stderr",
     "output_type": "stream",
     "text": [
      "b'Skipping line 8836: expected 4 fields, saw 5\\n'\n",
      "b'Skipping line 535882: expected 4 fields, saw 7\\n'\n"
     ]
    }
   ],
   "source": [
    "df = pd.read_csv(\"raw_data/train.zip\", \n",
    "                 error_bad_lines=False)"
   ]
  },
  {
   "cell_type": "code",
   "execution_count": 3,
   "id": "72ccb473",
   "metadata": {},
   "outputs": [
    {
     "data": {
      "text/html": [
       "<div>\n",
       "<style scoped>\n",
       "    .dataframe tbody tr th:only-of-type {\n",
       "        vertical-align: middle;\n",
       "    }\n",
       "\n",
       "    .dataframe tbody tr th {\n",
       "        vertical-align: top;\n",
       "    }\n",
       "\n",
       "    .dataframe thead th {\n",
       "        text-align: right;\n",
       "    }\n",
       "</style>\n",
       "<table border=\"1\" class=\"dataframe\">\n",
       "  <thead>\n",
       "    <tr style=\"text-align: right;\">\n",
       "      <th></th>\n",
       "      <th>ItemID</th>\n",
       "      <th>Sentiment</th>\n",
       "      <th>SentimentSource</th>\n",
       "      <th>SentimentText</th>\n",
       "    </tr>\n",
       "  </thead>\n",
       "  <tbody>\n",
       "    <tr>\n",
       "      <th>0</th>\n",
       "      <td>1</td>\n",
       "      <td>0</td>\n",
       "      <td>Sentiment140</td>\n",
       "      <td>is so sad for my APL frie...</td>\n",
       "    </tr>\n",
       "    <tr>\n",
       "      <th>1</th>\n",
       "      <td>2</td>\n",
       "      <td>0</td>\n",
       "      <td>Sentiment140</td>\n",
       "      <td>I missed the New Moon trail...</td>\n",
       "    </tr>\n",
       "    <tr>\n",
       "      <th>2</th>\n",
       "      <td>3</td>\n",
       "      <td>1</td>\n",
       "      <td>Sentiment140</td>\n",
       "      <td>omg its already 7:30 :O</td>\n",
       "    </tr>\n",
       "    <tr>\n",
       "      <th>3</th>\n",
       "      <td>4</td>\n",
       "      <td>0</td>\n",
       "      <td>Sentiment140</td>\n",
       "      <td>.. Omgaga. Im sooo  im gunna CRy. I'...</td>\n",
       "    </tr>\n",
       "    <tr>\n",
       "      <th>4</th>\n",
       "      <td>5</td>\n",
       "      <td>0</td>\n",
       "      <td>Sentiment140</td>\n",
       "      <td>i think mi bf is cheating on me!!!   ...</td>\n",
       "    </tr>\n",
       "  </tbody>\n",
       "</table>\n",
       "</div>"
      ],
      "text/plain": [
       "   ItemID  Sentiment SentimentSource  \\\n",
       "0       1          0    Sentiment140   \n",
       "1       2          0    Sentiment140   \n",
       "2       3          1    Sentiment140   \n",
       "3       4          0    Sentiment140   \n",
       "4       5          0    Sentiment140   \n",
       "\n",
       "                                       SentimentText  \n",
       "0                       is so sad for my APL frie...  \n",
       "1                     I missed the New Moon trail...  \n",
       "2                            omg its already 7:30 :O  \n",
       "3            .. Omgaga. Im sooo  im gunna CRy. I'...  \n",
       "4           i think mi bf is cheating on me!!!   ...  "
      ]
     },
     "execution_count": 3,
     "metadata": {},
     "output_type": "execute_result"
    }
   ],
   "source": [
    "df.head()"
   ]
  },
  {
   "cell_type": "markdown",
   "id": "5d7a89f7",
   "metadata": {},
   "source": [
    "# Cleanup the texts"
   ]
  },
  {
   "cell_type": "markdown",
   "id": "9c245835",
   "metadata": {},
   "source": [
    "At first we need to clean the text dataset.\n",
    "\n",
    "We will remove urls, html links, punctuation and emojis. \n",
    "\n",
    "Then we will expand the contractions, like don't to do not, haven't to have not etc."
   ]
  },
  {
   "cell_type": "code",
   "execution_count": 4,
   "id": "0e85f0f2",
   "metadata": {},
   "outputs": [],
   "source": [
    "def expand_contractions(text):\n",
    "    contractions_pattern = re.compile('({})'.format('|'.join(CONTRACTION_MAP.keys())), \n",
    "                                      flags=re.IGNORECASE)\n",
    "    def expand_match(contraction):\n",
    "        match = contraction.group(0)\n",
    "        first_char = match[0]\n",
    "        expanded_contraction = CONTRACTION_MAP.get(match)\\\n",
    "                            if CONTRACTION_MAP.get(match)\\\n",
    "                            else CONTRACTION_MAP.get(match.lower())\n",
    "        expanded_contraction = first_char+expanded_contraction[1:]\n",
    "        return expanded_contraction\n",
    "        \n",
    "    expanded_text = contractions_pattern.sub(expand_match, text)\n",
    "    expanded_text = re.sub(\"'\", \"\", expanded_text)\n",
    "    return expanded_text;\n",
    "\n",
    "def remove_url(text):\n",
    "    url = re.compile(r'https?://\\S+|www\\.\\S+')\n",
    "    return url.sub(r'', text)\n",
    "\n",
    "\n",
    "def remove_html(text):\n",
    "    html = re.compile(r'<.*?>')\n",
    "    return html.sub(r'', text)\n",
    "\n",
    "\n",
    "def remove_punct(text):\n",
    "    table = str.maketrans('', '', string.punctuation)\n",
    "    return text.translate(table)\n",
    "\n",
    "\n",
    "def remove_emoji(text):\n",
    "    emoji_pattern = re.compile(\"[\"\n",
    "                               u\"\\U0001F600-\\U0001F64F\"  # emoticons\n",
    "                               u\"\\U0001F300-\\U0001F5FF\"  # symbols & pictographs\n",
    "                               u\"\\U0001F680-\\U0001F6FF\"  # transport & map symbols\n",
    "                               u\"\\U0001F1E0-\\U0001F1FF\"  # flags (iOS)\n",
    "                               u\"\\U00002702-\\U000027B0\"\n",
    "                               u\"\\U000024C2-\\U0001F251\"\n",
    "                               \"]+\", flags=re.UNICODE)\n",
    "    return emoji_pattern.sub(r'', text)"
   ]
  },
  {
   "cell_type": "code",
   "execution_count": 5,
   "id": "62b3c085",
   "metadata": {},
   "outputs": [],
   "source": [
    "def cleanup_text(line: str) -> str:\n",
    "    \"\"\"\n",
    "    Args:\n",
    "        line: text line of the opinion\n",
    "    Returns:\n",
    "        text line where not alphabetical characters removed\n",
    "    \"\"\"\n",
    "    corrections = {\"&quot\": \"\", \"&amp\": \"\"}\n",
    "    line_lower = expand_contractions(line.lower())\n",
    "    \n",
    "    for wrong, cor in corrections.items():\n",
    "        line_lower = line_lower.replace(wrong, cor)\n",
    "    \n",
    "    # remove html\n",
    "    line_lower = remove_html(line_lower)\n",
    "    \n",
    "    # remove url\n",
    "    line_lower = remove_url(line_lower)\n",
    "    \n",
    "    # remove emoji\n",
    "    line_lower = remove_emoji(line_lower)\n",
    "    #words = re.findall(r\"[\\w']+\", line_lower)\n",
    "\n",
    "    return remove_punct(line_lower)"
   ]
  },
  {
   "cell_type": "code",
   "execution_count": 6,
   "id": "35f5fede",
   "metadata": {},
   "outputs": [],
   "source": [
    "df[\"SentimentText\"] = df[\"SentimentText\"].apply(cleanup_text)"
   ]
  },
  {
   "cell_type": "code",
   "execution_count": 7,
   "id": "4be82fc6",
   "metadata": {},
   "outputs": [],
   "source": [
    "positives = df[df['Sentiment']==1].copy()\n",
    "negatives = df[df['Sentiment']==0].copy()"
   ]
  },
  {
   "cell_type": "markdown",
   "id": "0a775c39",
   "metadata": {},
   "source": [
    "# Analyze dataset"
   ]
  },
  {
   "cell_type": "code",
   "execution_count": 8,
   "id": "bb6d0137",
   "metadata": {},
   "outputs": [],
   "source": [
    "def create_vocabulary(texts):    \n",
    "    counter = Counter()\n",
    "    for line in texts:\n",
    "        counter.update([x for x in line.split(\" \") if x not in STOP_WORDS and len(x) > 1])\n",
    "    return counter"
   ]
  },
  {
   "cell_type": "code",
   "execution_count": 9,
   "id": "87ce7a25",
   "metadata": {},
   "outputs": [],
   "source": [
    "pos_vocabulary = create_vocabulary(positives[\"SentimentText\"])\n",
    "neg_vocabulary = create_vocabulary(negatives[\"SentimentText\"])"
   ]
  },
  {
   "cell_type": "markdown",
   "id": "d14e414a",
   "metadata": {},
   "source": [
    "---------------------------------------"
   ]
  },
  {
   "cell_type": "markdown",
   "id": "aba2f4bd",
   "metadata": {},
   "source": [
    "**The next step is to find the top 10 most frequent words in positive and negative sentiment tweets.**\n",
    "\n",
    "**To achive this, we can just select the top 10 words from positive and negative vocabularies, that we have created.**\n",
    "\n",
    "**But that way some common words that are both in positive and negative words will also be shown.**\n",
    "\n",
    "**To see more clear representation, top 100 words from both positive and negative vocabularies are selected. Then words that occur in both groups are removed. From the rest of the words top 10 words are selected from both vocabularies**\n",
    "\n"
   ]
  },
  {
   "cell_type": "markdown",
   "id": "53d22ba0",
   "metadata": {},
   "source": [
    "--------------------"
   ]
  },
  {
   "cell_type": "code",
   "execution_count": 10,
   "id": "7bb16a1d",
   "metadata": {},
   "outputs": [],
   "source": [
    "# select first 100 words from positive and negative vocabularies.\n",
    "\n",
    "pv = list(pos_vocabulary.most_common(100))\n",
    "nv = list(neg_vocabulary.most_common(100))\n",
    "\n",
    "# select words in positive and negative first 100 vocabularies\n",
    "word_nv = set([x[0] for x in nv])\n",
    "word_pv = set([x[0] for x in pv])\n",
    "\n",
    "# select word, frequency pairs from positive vocabulary not occuring \n",
    "# in negative vocab and vice versa\n",
    "\n",
    "pv = [x for x in pv if x[0] not in word_nv]\n",
    "nv = [x for x in nv if x[0] not in word_pv]"
   ]
  },
  {
   "cell_type": "code",
   "execution_count": 11,
   "id": "70661071",
   "metadata": {},
   "outputs": [],
   "source": [
    "positive_cloud = WordCloud(background_color=\"white\",\n",
    "                           max_words=10,relative_scaling=0.5,\n",
    "                           normalize_plurals=False).generate_from_frequencies(dict(pv))\n"
   ]
  },
  {
   "cell_type": "code",
   "execution_count": 12,
   "id": "0a0fad29",
   "metadata": {},
   "outputs": [],
   "source": [
    "negative_cloud = WordCloud(background_color=\"white\", \n",
    "                           max_words=10,relative_scaling=0.5,\n",
    "                           normalize_plurals=False).generate_from_frequencies(dict(nv))\n"
   ]
  },
  {
   "cell_type": "code",
   "execution_count": 13,
   "id": "bd8279b8",
   "metadata": {},
   "outputs": [
    {
     "data": {
      "text/plain": [
       "<matplotlib.image.AxesImage at 0x7fe19574b970>"
      ]
     },
     "execution_count": 13,
     "metadata": {},
     "output_type": "execute_result"
    },
    {
     "data": {
      "image/png": "[encoded data removed]",
      "text/plain": [
       "<Figure size 360x360 with 1 Axes>"
      ]
     },
     "metadata": {
      "needs_background": "light"
     },
     "output_type": "display_data"
    }
   ],
   "source": [
    "plt.figure(figsize=[5,5], )\n",
    "plt.suptitle(\"First 10 positive words\", fontsize=20)\n",
    "plt.imshow(positive_cloud, interpolation=\"bilinear\")"
   ]
  },
  {
   "cell_type": "code",
   "execution_count": 14,
   "id": "e81b1a2e",
   "metadata": {},
   "outputs": [
    {
     "data": {
      "text/plain": [
       "<matplotlib.image.AxesImage at 0x7fe24c160ee0>"
      ]
     },
     "execution_count": 14,
     "metadata": {},
     "output_type": "execute_result"
    },
    {
     "data": {
      "image/png": "[encoded data removed]",
      "text/plain": [
       "<Figure size 360x360 with 1 Axes>"
      ]
     },
     "metadata": {
      "needs_background": "light"
     },
     "output_type": "display_data"
    }
   ],
   "source": [
    "plt.figure(figsize=[5,5], )\n",
    "plt.suptitle(\"First 10 negative words\", fontsize=20)\n",
    "plt.imshow(negative_cloud, interpolation=\"bilinear\")"
   ]
  },
  {
   "cell_type": "code",
   "execution_count": 15,
   "id": "0843f3f7",
   "metadata": {},
   "outputs": [
    {
     "name": "stderr",
     "output_type": "stream",
     "text": [
      "/home/haziyevv/ENVS/interviewproject/lib/python3.8/site-packages/seaborn/_decorators.py:36: FutureWarning: Pass the following variables as keyword args: x, y. From version 0.12, the only valid positional argument will be `data`, and passing other arguments without an explicit keyword will result in an error or misinterpretation.\n",
      "  warnings.warn(\n",
      "/home/haziyevv/ENVS/interviewproject/lib/python3.8/site-packages/seaborn/_decorators.py:36: FutureWarning: Pass the following variables as keyword args: x, y. From version 0.12, the only valid positional argument will be `data`, and passing other arguments without an explicit keyword will result in an error or misinterpretation.\n",
      "  warnings.warn(\n"
     ]
    },
    {
     "data": {
      "text/plain": [
       "Text(0, 0.5, 'Frequencies')"
      ]
     },
     "execution_count": 15,
     "metadata": {},
     "output_type": "execute_result"
    },
    {
     "data": {
      "image/png": "[encoded data removed]",
      "text/plain": [
       "<Figure size 1080x720 with 2 Axes>"
      ]
     },
     "metadata": {
      "needs_background": "light"
     },
     "output_type": "display_data"
    }
   ],
   "source": [
    "fix, axe = plt.subplots(2, 1, figsize=(15, 10))\n",
    "pxs = [x[0] for x in pv[:10]]\n",
    "pys = [x[1] for x in pv[:10]]\n",
    "nxs = [x[0] for x in nv[:10]]\n",
    "nys = [x[1] for x in nv[:10]]\n",
    "sns.barplot(pxs, pys, ax=axe[0])\n",
    "for tick in axe[0].get_xticklabels():\n",
    "    tick.set_rotation(45)\n",
    "\n",
    "sns.barplot(nxs, nys, ax=axe[1])\n",
    "for tick in axe[1].get_xticklabels():\n",
    "    tick.set_rotation(45)\n",
    "\n",
    "axe[0].set_title(\"Top 10 positive words\")\n",
    "axe[0].set_ylabel(\"Frequencies\")\n",
    "\n",
    "axe[1].set_title(\"Top 10 negative words\")\n",
    "axe[1].set_ylabel(\"Frequencies\")"
   ]
  },
  {
   "cell_type": "code",
   "execution_count": null,
   "id": "700a6e5d",
   "metadata": {},
   "outputs": [],
   "source": []
  },
  {
   "cell_type": "markdown",
   "id": "e145dfb3",
   "metadata": {},
   "source": [
    "# Zipfs Law"
   ]
  },
  {
   "cell_type": "code",
   "execution_count": 16,
   "id": "9a295d24",
   "metadata": {},
   "outputs": [],
   "source": [
    "vocabulary = create_vocabulary(df[\"SentimentText\"])"
   ]
  },
  {
   "cell_type": "code",
   "execution_count": 17,
   "id": "e94c920a",
   "metadata": {},
   "outputs": [],
   "source": [
    "sorted_vocab = list(vocabulary.most_common(len(vocabulary)))"
   ]
  },
  {
   "cell_type": "markdown",
   "id": "78c0723e",
   "metadata": {},
   "source": [
    "**Three different ways to plot are used to show the distribution of the words.**\n"
   ]
  },
  {
   "cell_type": "markdown",
   "id": "c63666b4",
   "metadata": {},
   "source": [
    "**First, 100 highest frequency words are selected and a scatter plot is drawn**\n",
    "\n",
    "**Second, log probabilities are drawn**\n",
    "\n",
    "**Third, Cumulative frequencies are drawn**"
   ]
  },
  {
   "cell_type": "code",
   "execution_count": 18,
   "id": "5d35e7ae",
   "metadata": {},
   "outputs": [
    {
     "data": {
      "text/plain": [
       "Text(0, 0.5, 'cumulative frequency')"
      ]
     },
     "execution_count": 18,
     "metadata": {},
     "output_type": "execute_result"
    },
    {
     "data": {
      "image/png": "[encoded data removed]",
      "text/plain": [
       "<Figure size 1080x720 with 4 Axes>"
      ]
     },
     "metadata": {
      "needs_background": "light"
     },
     "output_type": "display_data"
    }
   ],
   "source": [
    "fig, axe = plt.subplots(2, 2, figsize=(15, 10))\n",
    "xs = [x[0] for x in sorted_vocab]\n",
    "ys = [x[1] for x in sorted_vocab]\n",
    "total_words = sum(ys)\n",
    "word_probabilities = [x/total_words for x in ys]\n",
    "\n",
    "axe[0,0].plot([x for x in range(100)], [x for x in word_probabilities[:100]], \"*\")\n",
    "axe[0,0].set_xlabel(xlabel='rank', size=20)\n",
    "axe[0,0].set_ylabel(ylabel='frequency', size=20)\n",
    "axe[0,0].set_xlim(-10,110)\n",
    "axe[0,0].set_title(\"Words rank to frequency distibution\", fontsize=15)\n",
    "\n",
    "axe[0,1].plot([np.log(x+1) for x in range(len(xs))], [np.log(x) for x in word_probabilities], \"*\")\n",
    "axe[0,1].set_xlabel(xlabel='log rank', size=20)\n",
    "axe[0,1].set_ylabel(ylabel='log frequency', size=20)\n",
    "axe[0,1].set_title(\"Words log rank to frequency distribution\", fontsize=15)\n",
    "\n",
    "prob_cumsum = np.cumsum(ys)\n",
    "axe[1,0].plot([x for x in range(len(xs))], prob_cumsum, \"*\")\n",
    "axe[1,0].set_xlabel(xlabel='rank', size=20)\n",
    "axe[1,0].set_ylabel(ylabel='cumulative frequency', size=20)\n"
   ]
  },
  {
   "cell_type": "markdown",
   "id": "0861e206",
   "metadata": {},
   "source": [
    "In each plot we can see that only small portion of the words take most frequency.  "
   ]
  },
  {
   "cell_type": "code",
   "execution_count": null,
   "id": "a13cc06e",
   "metadata": {},
   "outputs": [],
   "source": []
  },
  {
   "cell_type": "markdown",
   "id": "bafeda90",
   "metadata": {},
   "source": [
    "#  Sentiment Analysis model"
   ]
  },
  {
   "cell_type": "markdown",
   "id": "c11e43b3",
   "metadata": {},
   "source": [
    "**I will use pytorch and its torchtext module to make the model**"
   ]
  },
  {
   "cell_type": "code",
   "execution_count": 19,
   "id": "7e7df18e",
   "metadata": {},
   "outputs": [],
   "source": [
    "import random, os\n",
    "import torch\n",
    "from torch.nn.utils.rnn import pad_sequence\n",
    "import torch.nn as nn\n",
    "import torchtext\n",
    "from torch.utils.data import Dataset, DataLoader\n",
    "from sklearn.model_selection import train_test_split\n",
    "import torch.optim as optim\n",
    "from torchtext.vocab import Vocab\n",
    "from argparse import Namespace"
   ]
  },
  {
   "cell_type": "code",
   "execution_count": 20,
   "id": "06acd133",
   "metadata": {},
   "outputs": [],
   "source": [
    "device = \"cuda\" if torch.cuda.is_available else \"cpu\"\n",
    "\n",
    "args = Namespace(\n",
    "    tweet_vocabulary=\"ckpt/vocabulary\",\n",
    "    hidden_dim=256,\n",
    "    learning_rate=0.001,\n",
    "    train_csv=\"raw_data/train.zip\",\n",
    "    batch_size=128,\n",
    "    num_epochs=5,\n",
    "    num_layers=2,\n",
    "    embedding_size=100,\n",
    "    dropout=0.3,\n",
    "    output_dim=1\n",
    ")\n",
    "\n",
    "torch.manual_seed(0)\n",
    "np.random.seed(0)\n",
    "random.seed(0)"
   ]
  },
  {
   "cell_type": "code",
   "execution_count": 21,
   "id": "7c50d331",
   "metadata": {},
   "outputs": [],
   "source": [
    "labels = df['Sentiment']\n",
    "texts = df['SentimentText']\n",
    "\n",
    "X_train, X_val, y_train, y_val = train_test_split(texts, labels, test_size=0.1)\n",
    "X_val, X_test, y_val, y_test = train_test_split(X_val, y_val, test_size=0.05)"
   ]
  },
  {
   "cell_type": "code",
   "execution_count": 22,
   "id": "04c4a65b",
   "metadata": {},
   "outputs": [],
   "source": [
    "class LSTMModel(nn.Module):\n",
    "    def __init__(self, input_dim, embedding_size, hidden_dim,\n",
    "                 output_dim, padding_id, n_layers, dropout, pretrained_embeddings=None):\n",
    "        super().__init__()\n",
    "        self.embedding = nn.Embedding(num_embeddings=input_dim,\n",
    "                                      embedding_dim=embedding_size,\n",
    "                                      padding_idx=padding_id)\n",
    "\n",
    "        self.rnn = nn.LSTM(embedding_size,\n",
    "                           hidden_dim,\n",
    "                           num_layers=n_layers,\n",
    "                           bidirectional=True,\n",
    "                           dropout=dropout)\n",
    "\n",
    "        self.fc = nn.Linear(hidden_dim*2, output_dim)\n",
    "        self.dropout = nn.Dropout(dropout)\n",
    "\n",
    "    def forward(self, text, text_lengths):\n",
    "        embedded = self.embedding(text)\n",
    "        packed_embedded = nn.utils.rnn.pack_padded_sequence(embedded, text_lengths.to('cpu'))\n",
    "        packed_output, (hidden, cell) = self.rnn(packed_embedded)\n",
    "        output, output_lengths = nn.utils.rnn.pad_packed_sequence(packed_output)\n",
    "\n",
    "        hidden = self.dropout(torch.cat((hidden[-2, :, :], hidden[-1, :, :]), dim=1))\n",
    "        out = self.fc(hidden)\n",
    "        return out.squeeze(1)"
   ]
  },
  {
   "cell_type": "code",
   "execution_count": 23,
   "id": "e86e53d3",
   "metadata": {},
   "outputs": [],
   "source": [
    "# To convert sentences to tokenized and encoded form\n",
    "\n",
    "def text_transform(text, Vocabulary):\n",
    "    return [Vocabulary['<BOS>']] + [Vocabulary[token]\n",
    "                                    for token in text.split(\" \")] + [Vocabulary['<EOS>']]\n"
   ]
  },
  {
   "cell_type": "code",
   "execution_count": 24,
   "id": "1aee1cd2",
   "metadata": {},
   "outputs": [],
   "source": [
    "def collate_batch(batch):\n",
    "    batch.sort(key=lambda x: len(x[0]), reverse=True)\n",
    "    label_list, text_list, text_lengths = [], [], []\n",
    "    for _text, _label in batch:\n",
    "        label_list.append(_label)\n",
    "        processed_text = torch.tensor(_text)\n",
    "        text_list.append(processed_text)\n",
    "        text_lengths.append(len(processed_text))\n",
    "    return torch.tensor(label_list, dtype=torch.float32), pad_sequence(text_list, padding_value=3.0), torch.tensor(text_lengths, dtype=torch.int64, device=\"cpu\")"
   ]
  },
  {
   "cell_type": "code",
   "execution_count": 25,
   "id": "e68da0c3",
   "metadata": {},
   "outputs": [],
   "source": [
    "def calculate_accuracy(y_pred, y):\n",
    "    y = y.detach().numpy()\n",
    "    y_pred = torch.sigmoid(y_pred).detach().numpy()\n",
    "    y_pred[y_pred > 0.5] = 1\n",
    "    y_pred[y_pred < 0.5] = 0\n",
    "    correct = len(y_pred[y_pred == y])\n",
    "    return (correct/y_pred.shape[0]) * 100"
   ]
  },
  {
   "cell_type": "code",
   "execution_count": 26,
   "id": "ec016332",
   "metadata": {},
   "outputs": [],
   "source": [
    "TweetVocabulary = torch.load(args.tweet_vocabulary)"
   ]
  },
  {
   "cell_type": "code",
   "execution_count": 27,
   "id": "7c0a0f5f",
   "metadata": {},
   "outputs": [],
   "source": [
    "# Build the dataset and dataloader\n",
    "\n",
    "train_dataset = [(text_transform(text, TweetVocabulary), label)\n",
    "                     for (text, label) in zip(X_train, y_train)]\n",
    "\n",
    "val_dataset = [(text_transform(text, TweetVocabulary), label)\n",
    "                    for (text, label) in zip(X_val, y_val)]\n",
    "\n",
    "test_dataset = [(text_transform(text, TweetVocabulary), label)\n",
    "                    for (text, label) in zip(X_test, y_test)]"
   ]
  },
  {
   "cell_type": "code",
   "execution_count": 28,
   "id": "71b59616",
   "metadata": {},
   "outputs": [],
   "source": [
    "lstm_model = LSTMModel(input_dim=len(TweetVocabulary), embedding_size=args.embedding_size,\n",
    "                      hidden_dim=args.hidden_dim, output_dim=1, padding_id=3,\n",
    "                      n_layers=args.num_layers, dropout=args.dropout)\n",
    "\n",
    "\n",
    "lstm_model.load_state_dict(torch.load(os.path.join(\"ckpt\", \"model_lstm.pt\")))\n",
    "lstm_model = lstm_model.to(device)"
   ]
  },
  {
   "cell_type": "code",
   "execution_count": 29,
   "id": "434ed56c",
   "metadata": {},
   "outputs": [],
   "source": [
    "optimizer = optim.Adam(params=lstm_model.parameters(), lr=args.learning_rate)\n",
    "loss_fn = nn.BCEWithLogitsLoss().to(device)"
   ]
  },
  {
   "cell_type": "code",
   "execution_count": 30,
   "id": "e20d1564",
   "metadata": {},
   "outputs": [],
   "source": [
    "train_loader = DataLoader(dataset=train_dataset,\n",
    "                          batch_size=args.batch_size,\n",
    "                          shuffle=True,\n",
    "                          collate_fn=collate_batch)\n",
    "\n",
    "val_loader = DataLoader(dataset=val_dataset,\n",
    "                        batch_size=args.batch_size,\n",
    "                        shuffle=True,\n",
    "                        collate_fn=collate_batch)\n",
    "\n",
    "test_loader = DataLoader(dataset=test_dataset,\n",
    "                        batch_size=1,\n",
    "                        shuffle=True,\n",
    "                        collate_fn=collate_batch)"
   ]
  },
  {
   "cell_type": "code",
   "execution_count": 31,
   "id": "e3461454",
   "metadata": {},
   "outputs": [
    {
     "name": "stdout",
     "output_type": "stream",
     "text": [
      "Test loss: 4010.9216319813795\n",
      "Test accuracy: 78.71801368127691\n"
     ]
    }
   ],
   "source": [
    "lstm_model = lstm_model.eval()\n",
    "total_accuracy = []\n",
    "total_loss = 0.0\n",
    "\n",
    "with torch.no_grad():\n",
    "    for ys, xs, text_lengths in test_loader:\n",
    "        xs = xs.to(device)\n",
    "        ys = ys.to(device)\n",
    "        predicted = lstm_model(xs, text_lengths)\n",
    "        loss = loss_fn(predicted, ys)\n",
    "\n",
    "        total_loss += loss.item()\n",
    "        accuracy = calculate_accuracy(predicted.cpu(), ys.cpu())\n",
    "        total_accuracy.append(accuracy)\n",
    "        \n",
    "print(f\"Test loss: {total_loss}\")\n",
    "print(f\"Test accuracy: {sum(total_accuracy)/len(total_accuracy)}\")"
   ]
  },
  {
   "cell_type": "code",
   "execution_count": null,
   "id": "a600486f",
   "metadata": {},
   "outputs": [],
   "source": []
  },
  {
   "cell_type": "markdown",
   "id": "0e47eac3",
   "metadata": {},
   "source": [
    "# About the LSTM method applied"
   ]
  },
  {
   "cell_type": "markdown",
   "id": "2eff9793",
   "metadata": {},
   "source": [
    "At first I have applied the one layer lstm model. I take the sentences as batch and tokenize them and pad them to the max length sentence in the batch. Then input them to the embedding layer, where each token is converted to an embedding vector. The I input those embedding vectors to the lstm layer. I have used a bidirectional LSTM model, which will take into account both left in the sequence and right in the sequence to the token. I take the both forward and backward information to the last dimension, and concatenate them. The concatenated vector is fed to a linear feed fully connected layer. I do not apply softmax, because the loss function does that for me.  "
   ]
  },
  {
   "cell_type": "markdown",
   "id": "33471b58",
   "metadata": {},
   "source": [
    "--------------"
   ]
  },
  {
   "cell_type": "markdown",
   "id": "ba3ab214",
   "metadata": {},
   "source": [
    "**Building the models with Bert**"
   ]
  },
  {
   "cell_type": "markdown",
   "id": "500771d7",
   "metadata": {},
   "source": [
    "**About the BERT methods applied**\n",
    "\n",
    "After finding 78 % validation accuracy with a bidirection lstm model, we have other choices too. One is start training with a pretrained model. This should improve the results. But I chosed bert for this in a similar way. Instead of embedding layer, I give inputs to bert model and it returns a contextual word embedding vector, which is a better method compared to a embedding model that is not aware of the context.  With this model, I have achieved around 84% validation accuracy.\n",
    "\n",
    "Finally I have fine tuned the BERT model for this task, which gave the higest result of 86 % accuracy. "
   ]
  },
  {
   "cell_type": "markdown",
   "id": "8d22da52",
   "metadata": {},
   "source": [
    "--------------------"
   ]
  },
  {
   "cell_type": "code",
   "execution_count": 32,
   "id": "d14f062c",
   "metadata": {},
   "outputs": [],
   "source": [
    "from transformers import BertTokenizer, BertModel, BertTokenizer"
   ]
  },
  {
   "cell_type": "code",
   "execution_count": 33,
   "id": "eed6d8a6",
   "metadata": {},
   "outputs": [],
   "source": [
    "    \n",
    "class BERTLSTMModel(nn.Module):\n",
    "    def __init__(self, bert, hidden_dim, \n",
    "                 output_dim, n_layers, dropout):\n",
    "        super().__init__()\n",
    "        self.bert = bert\n",
    "        embedding_dim = bert.config.to_dict()['hidden_size']\n",
    "        self.rnn = nn.LSTM(embedding_dim,\n",
    "                   hidden_dim,\n",
    "                   num_layers=n_layers,\n",
    "                   bidirectional=True,\n",
    "                   dropout=0 if n_layers < 2 else dropout,\n",
    "                   batch_first=True)\n",
    "\n",
    "        self.fc = nn.Linear(2*hidden_dim, output_dim)\n",
    "        self.dropout = nn.Dropout(dropout)\n",
    "\n",
    "    def forward(self, texts, attention_mask):\n",
    "        with torch.no_grad():\n",
    "            embedded = self.bert(\n",
    "                texts,\n",
    "                attention_mask\n",
    "            )[0]\n",
    "        self.rnn.flatten_parameters()\n",
    "        output, (hidden, cell) = self.rnn(embedded)\n",
    "        output = self.dropout(torch.cat((hidden[-2, :, :], \n",
    "                                         hidden[-1, :, :]), \n",
    "                                         dim=1))\n",
    "        out = self.fc(output)\n",
    "        return out.squeeze(1)\n",
    "\n",
    "    \n",
    "class BERTModel(nn.Module):\n",
    "    def __init__(self, bert, output_dim, dropout=0.3):\n",
    "        super().__init__()\n",
    "        self.bert = bert\n",
    "        embedding_dim = bert.config.to_dict()['hidden_size']\n",
    "        self.fc = nn.Linear(embedding_dim, output_dim)\n",
    "        self.dropout = nn.Dropout(dropout)\n",
    "    def forward(self, input_ids, attention_mask):\n",
    "        pooled_out = self.bert(input_ids, attention_mask)\n",
    "        out = self.dropout(pooled_out[1])\n",
    "        out = self.fc(out)\n",
    "        return out.squeeze(1)"
   ]
  },
  {
   "cell_type": "code",
   "execution_count": null,
   "id": "cd8a5345",
   "metadata": {},
   "outputs": [],
   "source": []
  },
  {
   "cell_type": "code",
   "execution_count": 34,
   "id": "a0d54532",
   "metadata": {},
   "outputs": [],
   "source": [
    "class SentimentDataset(Dataset):\n",
    "    def __init__(self, tweets, labels, tokenizer, max_len):\n",
    "        self.tweets = tweets\n",
    "        self.labels = labels\n",
    "        self.tokenizer = tokenizer\n",
    "        self.max_len = max_len\n",
    "\n",
    "    def __len__(self):\n",
    "        return len(self.tweets)\n",
    "\n",
    "    def __getitem__(self, idx):\n",
    "        tweet = self.tweets[idx]\n",
    "        label = self.labels[idx]\n",
    "\n",
    "        encoding = self.tokenizer.encode_plus(\n",
    "            tweet,\n",
    "            add_special_tokens=True,\n",
    "            max_length=self.max_len,\n",
    "            return_token_type_ids=False,\n",
    "            padding=\"max_length\",\n",
    "            return_attention_mask=True,\n",
    "            truncation=True,\n",
    "            return_tensors='pt',\n",
    "        )\n",
    "\n",
    "        return {\n",
    "            'input_ids': encoding['input_ids'].flatten(),\n",
    "            'attention_mask': encoding['attention_mask'].flatten(),\n",
    "            'labels': torch.tensor(label, dtype=torch.float32)\n",
    "        }"
   ]
  },
  {
   "cell_type": "code",
   "execution_count": 35,
   "id": "384926d1",
   "metadata": {},
   "outputs": [],
   "source": [
    "tokenizer = BertTokenizer.from_pretrained('bert-base-uncased')\n",
    "max_input_length = 128"
   ]
  },
  {
   "cell_type": "code",
   "execution_count": 36,
   "id": "b6ee21e5",
   "metadata": {},
   "outputs": [],
   "source": [
    "train_dataset = SentimentDataset(X_train.to_list(), y_train.to_list(), tokenizer, max_input_length)\n",
    "val_dataset = SentimentDataset(X_val.to_list(), y_val.to_list(), tokenizer, max_input_length)\n",
    "test_dataset = SentimentDataset(X_test.to_list(), y_test.to_list(), tokenizer, max_input_length)"
   ]
  },
  {
   "cell_type": "code",
   "execution_count": 37,
   "id": "66330630",
   "metadata": {},
   "outputs": [],
   "source": [
    "train_data_loader = DataLoader(train_dataset,\n",
    "                               batch_size=4,\n",
    "                               shuffle=True,\n",
    "                               num_workers=8)\n",
    "\n",
    "val_data_loader = DataLoader(val_dataset,\n",
    "                             batch_size=4,\n",
    "                             shuffle=True,\n",
    "                             num_workers=8)\n",
    "\n",
    "test_data_loader = DataLoader(test_dataset,\n",
    "                             batch_size=1,\n",
    "                             shuffle=False,\n",
    "                             num_workers=1)"
   ]
  },
  {
   "cell_type": "code",
   "execution_count": 38,
   "id": "6b9eb2ac",
   "metadata": {},
   "outputs": [
    {
     "name": "stderr",
     "output_type": "stream",
     "text": [
      "Some weights of the model checkpoint at bert-base-uncased were not used when initializing BertModel: ['cls.predictions.decoder.weight', 'cls.predictions.transform.LayerNorm.bias', 'cls.seq_relationship.bias', 'cls.predictions.bias', 'cls.predictions.transform.dense.bias', 'cls.predictions.transform.dense.weight', 'cls.seq_relationship.weight', 'cls.predictions.transform.LayerNorm.weight']\n",
      "- This IS expected if you are initializing BertModel from the checkpoint of a model trained on another task or with another architecture (e.g. initializing a BertForSequenceClassification model from a BertForPreTraining model).\n",
      "- This IS NOT expected if you are initializing BertModel from the checkpoint of a model that you expect to be exactly identical (initializing a BertForSequenceClassification model from a BertForSequenceClassification model).\n"
     ]
    }
   ],
   "source": [
    "bert = BertModel.from_pretrained('bert-base-uncased')\n",
    "\n",
    "\n",
    "bert_lstm_model = BERTLSTMModel(bert=bert,\n",
    "                      hidden_dim=args.hidden_dim,\n",
    "                      output_dim=args.output_dim,\n",
    "                      n_layers=1,\n",
    "                      dropout=0.5)\n",
    "\n",
    "optimizer = optim.Adam(bert_lstm_model.parameters(),\n",
    "                       lr=args.learning_rate)\n",
    "\n",
    "\n",
    "loss_fn = nn.BCEWithLogitsLoss().to(device)\n",
    "state_dict = torch.load(\"ckpt/model_lstm_bert.pt\", map_location=device)\n",
    "new_state_dict = OrderedDict()\n",
    "for k,v in state_dict.items():\n",
    "    name = k[7:]\n",
    "    new_state_dict[name] = v\n",
    "\n",
    "bert_lstm_model.load_state_dict(new_state_dict)\n",
    "bert_lstm_model = bert_lstm_model.to(device)"
   ]
  },
  {
   "cell_type": "code",
   "execution_count": 39,
   "id": "8cbe42ea",
   "metadata": {},
   "outputs": [],
   "source": [
    "def eval_model(epoch, model, val_data_loader):\n",
    "    total_eval_loss = 0.0\n",
    "    total_val_accuracy = []\n",
    "    model = model.eval()\n",
    "    \n",
    "    with torch.no_grad():\n",
    "        for data in val_data_loader:\n",
    "            xs = data[\"input_ids\"].to(device)\n",
    "            ys = data[\"labels\"].to(device)\n",
    "            attention_mask = data[\"attention_mask\"].to(device)\n",
    "            predicted = model(xs, attention_mask)\n",
    "            val_loss = loss_fn(predicted, ys)\n",
    "\n",
    "            total_eval_loss += val_loss.item()\n",
    "            accuracy = calculate_accuracy(predicted.cpu(), ys.cpu())\n",
    "            total_val_accuracy.append(accuracy)\n",
    "    print(f\"Epoch {epoch}, Validation loss: {total_eval_loss}\")\n",
    "    print(f\"Epoch {epoch}, Validation accuracy: {sum(total_val_accuracy)/len(total_val_accuracy)}\")\n"
   ]
  },
  {
   "cell_type": "code",
   "execution_count": 40,
   "id": "2b121e92",
   "metadata": {},
   "outputs": [
    {
     "name": "stdout",
     "output_type": "stream",
     "text": [
      "Epoch 1, Validation loss: 2834.064402458811\n",
      "Epoch 1, Validation accuracy: 84.21586014694705\n"
     ]
    }
   ],
   "source": [
    "eval_model(1, bert_lstm_model, test_data_loader)"
   ]
  },
  {
   "cell_type": "code",
   "execution_count": null,
   "id": "639e05a3",
   "metadata": {},
   "outputs": [],
   "source": []
  },
  {
   "cell_type": "code",
   "execution_count": 41,
   "id": "f1c1da92",
   "metadata": {},
   "outputs": [],
   "source": [
    "bert_model = BERTModel(bert=bert,\n",
    "                      output_dim=args.output_dim,\n",
    "                      dropout=args.dropout)\n",
    "\n",
    "state_dict = torch.load(\"ckpt/model_only_bert.pt\", map_location=device)\n",
    "new_state_dict = OrderedDict()\n",
    "for k,v in state_dict.items():\n",
    "    name = k[7:]\n",
    "    new_state_dict[name] = v\n",
    "\n",
    "bert_model.load_state_dict(new_state_dict)\n",
    "bert_model = bert_model.to(device)"
   ]
  },
  {
   "cell_type": "code",
   "execution_count": 42,
   "id": "b62e6dba",
   "metadata": {},
   "outputs": [
    {
     "name": "stdout",
     "output_type": "stream",
     "text": [
      "Epoch 1, Validation loss: 2730.8539856094867\n",
      "Epoch 1, Validation accuracy: 86.43273372181403\n"
     ]
    }
   ],
   "source": [
    "eval_model(1, bert_model, test_data_loader)"
   ]
  },
  {
   "cell_type": "code",
   "execution_count": null,
   "id": "22569f82",
   "metadata": {},
   "outputs": [],
   "source": []
  },
  {
   "cell_type": "code",
   "execution_count": null,
   "id": "3653074f",
   "metadata": {},
   "outputs": [],
   "source": []
  }
 ],
 "metadata": {
  "kernelspec": {
   "display_name": "interviewproject",
   "language": "python",
   "name": "interviewproject"
  },
  "language_info": {
   "codemirror_mode": {
    "name": "ipython",
    "version": 3
   },
   "file_extension": ".py",
   "mimetype": "text/x-python",
   "name": "python",
   "nbconvert_exporter": "python",
   "pygments_lexer": "ipython3",
   "version": "3.8.5"
  }
 },
 "nbformat": 4,
 "nbformat_minor": 5
}
